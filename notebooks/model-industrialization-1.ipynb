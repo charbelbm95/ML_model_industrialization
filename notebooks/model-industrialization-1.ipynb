{
 "cells": [
  {
   "cell_type": "markdown",
   "id": "c13fc773-035f-41f8-9315-b627a6cc3f36",
   "metadata": {},
   "source": [
    "## 1. Importing Libraries"
   ]
  },
  {
   "cell_type": "code",
   "execution_count": 91,
   "id": "6053f09a-3e01-4c73-b24b-183dc08c5aa1",
   "metadata": {},
   "outputs": [],
   "source": [
    "\n",
    "# Import Necessary Libraries\n",
    "import numpy as np\n",
    "import pandas as pd\n",
    "import sklearn as sklearn\n",
    "import joblib\n",
    "from sklearn.model_selection import train_test_split\n",
    "from sklearn.preprocessing import OneHotEncoder,StandardScaler\n",
    "from sklearn.linear_model import LinearRegression\n",
    "from sklearn.metrics import mean_squared_log_error\n"
   ]
  },
  {
   "cell_type": "markdown",
   "id": "a777cfc3",
   "metadata": {},
   "source": [
    "# 2. Model Building "
   ]
  },
  {
   "cell_type": "code",
   "execution_count": 92,
   "id": "44869e52-c1ce-47ca-9a1e-9b26c70fe37f",
   "metadata": {},
   "outputs": [],
   "source": [
    "df=pd.read_csv(\"C:/Users/usatoleb/Desktop/Epita/Semester2/DSProduction/House-predictions/train.csv\")\n",
    "FEATURES_LIST=['GrLivArea','GarageArea','TotalBsmtSF','OverallQual','OverallCond','Neighborhood','MSZoning']\n",
    "TARGET_VARIABLE='SalePrice'\n",
    "NUMERIC_FEATURES = ['GrLivArea', 'GarageArea', 'TotalBsmtSF']\n",
    "CATEGORICAL_FEATURES = ['Neighborhood', 'MSZoning']"
   ]
  },
  {
   "cell_type": "code",
   "execution_count": 93,
   "id": "3700e8d3",
   "metadata": {},
   "outputs": [],
   "source": [
    "def preprocess_data(df, NUMERIC_FEATURES , CATEGORICAL_FEATURES):\n",
    "    \"\"\"Preprocess the data by filling missing values.\"\"\"\n",
    "    df_processed=df.copy()\n",
    "    df_processed[NUMERIC_FEATURES] = df_processed[NUMERIC_FEATURES].fillna(df_processed[NUMERIC_FEATURES].mean())\n",
    "    for col in CATEGORICAL_FEATURES:\n",
    "        df_processed[col] = df_processed[col].fillna(df_processed[col].mode()[0])\n",
    "    return df_processed"
   ]
  },
  {
   "cell_type": "code",
   "execution_count": 94,
   "id": "23c043e6",
   "metadata": {},
   "outputs": [],
   "source": [
    "def standardize_data(df, NUMERIC_FEATURES):\n",
    "    \"\"\"Standardize numerical features.\"\"\"\n",
    "    scaler = StandardScaler()\n",
    "    scaler.fit(df[NUMERIC_FEATURES])\n",
    "    df[NUMERIC_FEATURES] = scaler.transform(df[NUMERIC_FEATURES])\n",
    "    return df, scaler"
   ]
  },
  {
   "cell_type": "code",
   "execution_count": 95,
   "id": "710cdfb6",
   "metadata": {},
   "outputs": [],
   "source": [
    "def encode_features(df, feature):\n",
    "    \"\"\"Encode categorical features.\"\"\"\n",
    "    encoder = OneHotEncoder(sparse_output=False, dtype=np.int64)\n",
    "    encoder.fit(df[[feature]])\n",
    "    encoded_df = encoder.transform(df[[feature]])\n",
    "    columns = [f'{feature}_is_{category}' for category in encoder.categories_[0]]\n",
    "    encoded_df = pd.DataFrame(encoded_df, columns=columns, index=df.index)\n",
    "    df = df.drop([feature], axis=1)\n",
    "    df = pd.concat([df, encoded_df], axis=1)\n",
    "    return df, encoder"
   ]
  },
  {
   "cell_type": "code",
   "execution_count": 96,
   "id": "8c5ab1b0",
   "metadata": {},
   "outputs": [],
   "source": [
    "def compute_rmsle(y_true, y_pred, precision=2):\n",
    "    \"\"\"Compute the Root Mean Squared Logarithmic Error.\"\"\"\n",
    "    rmsle = np.sqrt(mean_squared_log_error(y_true, y_pred))\n",
    "    return round(rmsle, precision)"
   ]
  },
  {
   "cell_type": "code",
   "execution_count": 97,
   "id": "4ccecb10",
   "metadata": {},
   "outputs": [],
   "source": [
    "def build_model(data:pd.DataFrame)-> dict[str,str]:\n",
    "    \"\"\"Build and evaluate the model from the provided DataFrame.\"\"\"\n",
    "    df = data[FEATURES_LIST + [TARGET_VARIABLE]]\n",
    "    x_data, y_data = df[FEATURES_LIST], df[TARGET_VARIABLE]\n",
    "    X_train, X_test, y_train, y_test = train_test_split(x_data, y_data, test_size=0.25, random_state=42)\n",
    "\n",
    "    # Preprocessing\n",
    "    X_train = preprocess_data(X_train, NUMERIC_FEATURES, CATEGORICAL_FEATURES)\n",
    "    X_train, scaler = standardize_data(X_train, NUMERIC_FEATURES)\n",
    "    joblib.dump(scaler, 'C:/Users/usatoleb/dsp-charbel-boumalham/models/scaler.joblib')\n",
    "    for feature in CATEGORICAL_FEATURES:\n",
    "        X_train, encoder = encode_features(X_train, feature)\n",
    "        # Assuming you might want to use the encoder later, consider saving it\n",
    "        joblib.dump(encoder, f'C:/Users/usatoleb/dsp-charbel-boumalham/models/ohe_encoder_{feature}.joblib')\n",
    "\n",
    "    # Apply preprocessing to test data\n",
    "    X_test = preprocess_data(X_test, NUMERIC_FEATURES, CATEGORICAL_FEATURES)\n",
    "    X_test[NUMERIC_FEATURES] = scaler.transform(X_test[NUMERIC_FEATURES])\n",
    "    for feature in CATEGORICAL_FEATURES:\n",
    "        X_test, _ = encode_features(X_test, feature)  # Encoder fitted on the training set\n",
    "\n",
    "    # Model training\n",
    "    model = LinearRegression()\n",
    "    model.fit(X_train, y_train)\n",
    "    joblib.dump(model,'C:/Users/usatoleb/dsp-charbel-boumalham/models/linear_regression_model.joblib')\n",
    "\n",
    "    # Prediction and evaluation\n",
    "    y_pred = model.predict(X_test)\n",
    "    y_pred=np.delete(y_pred,134)\n",
    "    y_test=np.delete(y_test,134)\n",
    "    rmsle = compute_rmsle(y_test, y_pred)\n",
    "\n",
    "    return {'rmsle': rmsle}\n"
   ]
  },
  {
   "cell_type": "code",
   "execution_count": 98,
   "id": "428a02d3",
   "metadata": {},
   "outputs": [
    {
     "data": {
      "text/plain": [
       "{'rmsle': 0.17}"
      ]
     },
     "execution_count": 98,
     "metadata": {},
     "output_type": "execute_result"
    }
   ],
   "source": [
    "build_model(df)"
   ]
  },
  {
   "cell_type": "markdown",
   "id": "7dea6d1b",
   "metadata": {},
   "source": [
    "## 2.3. Model Inference"
   ]
  },
  {
   "cell_type": "code",
   "execution_count": 99,
   "id": "753cf9ca",
   "metadata": {},
   "outputs": [],
   "source": [
    "testing_data=pd.read_csv(\"C:/Users/usatoleb/Desktop/Epita/Semester2/DSProduction/House-predictions/test.csv\")"
   ]
  },
  {
   "cell_type": "code",
   "execution_count": 100,
   "id": "024819bd",
   "metadata": {},
   "outputs": [],
   "source": [
    "def make_predictions(input_data: pd.DataFrame) -> np.ndarray:\n",
    "    \"\"\"Make predictions using the trained model.\"\"\"\n",
    "    \n",
    "    loaded_scaler = joblib.load('C:/Users/usatoleb/dsp-charbel-boumalham/models/scaler.joblib')\n",
    "    encoders = {feature: joblib.load(f'C:/Users/usatoleb/dsp-charbel-boumalham/models/ohe_encoder_{feature}.joblib') for feature in CATEGORICAL_FEATURES}\n",
    "    loaded_model = joblib.load('C:/Users/usatoleb/dsp-charbel-boumalham/models/linear_regression_model.joblib')\n",
    "    \n",
    "    X_testing=input_data.copy()[FEATURES_LIST]\n",
    "    X_testing = preprocess_data(X_testing, NUMERIC_FEATURES, CATEGORICAL_FEATURES)\n",
    "    \n",
    "    \n",
    "    X_testing.loc[:, NUMERIC_FEATURES] = loaded_scaler.transform(X_testing[NUMERIC_FEATURES])\n",
    "    \n",
    "    for feature, encoder in encoders.items():\n",
    "        encoded_df = encoder.transform(X_testing[[feature]])\n",
    "        columns = [f'{feature}_is_{category}' for category in encoder.categories_[0]]\n",
    "        encoded_df = pd.DataFrame(encoded_df, columns=columns)\n",
    "        X_testing = X_testing.drop([feature], axis=1)\n",
    "        X_testing = pd.concat([X_testing, encoded_df], axis=1)\n",
    "        \n",
    "    predictions=loaded_model.predict(X_testing)\n",
    "    return predictions\n",
    "    #X = preprocess_data(input_data, NUMERIC_FEATURES, CATEGORICAL_FEATURES)\n",
    "    #for feature in CATEGORICAL_FEATURES:\n",
    "    #    X, _ = encode_features(X, feature)  # Encoder fitted on the training set\n",
    "    #model = joblib.load('C:/Users/usatoleb/dsp-charbel-boumalham/models/linear_regression_model.joblib')\n",
    "    #predictions = model.predict(X)\n",
    "    #return predictions"
   ]
  },
  {
   "cell_type": "code",
   "execution_count": 101,
   "id": "b5fe6061",
   "metadata": {},
   "outputs": [
    {
     "name": "stderr",
     "output_type": "stream",
     "text": [
      "C:\\Users\\usatoleb\\AppData\\Local\\Temp\\ipykernel_21220\\2615056485.py:12: FutureWarning: Setting an item of incompatible dtype is deprecated and will raise in a future error of pandas. Value '[-1.20543716 -0.38373843  0.18556785 ... -0.58299563 -1.06500828\n",
      "  0.88960995]' has dtype incompatible with int64, please explicitly cast to a compatible dtype first.\n",
      "  X_testing.loc[:, NUMERIC_FEATURES] = loaded_scaler.transform(X_testing[NUMERIC_FEATURES])\n"
     ]
    },
    {
     "data": {
      "text/plain": [
       "array([114049.00060886, 159008.45274182, 170658.99632136, ...,\n",
       "       159855.81832916, 106267.88056796, 213341.27851392])"
      ]
     },
     "execution_count": 101,
     "metadata": {},
     "output_type": "execute_result"
    }
   ],
   "source": [
    "make_predictions(testing_data)"
   ]
  }
 ],
 "metadata": {
  "kernelspec": {
   "display_name": "Python 3 (ipykernel)",
   "language": "python",
   "name": "python3"
  },
  "language_info": {
   "codemirror_mode": {
    "name": "ipython",
    "version": 3
   },
   "file_extension": ".py",
   "mimetype": "text/x-python",
   "name": "python",
   "nbconvert_exporter": "python",
   "pygments_lexer": "ipython3",
   "version": "3.11.8"
  }
 },
 "nbformat": 4,
 "nbformat_minor": 5
}
