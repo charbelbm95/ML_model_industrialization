{
 "cells": [
  {
   "cell_type": "markdown",
   "id": "c13fc773-035f-41f8-9315-b627a6cc3f36",
   "metadata": {},
   "source": [
    "## 1. Importing Libraries"
   ]
  },
  {
   "cell_type": "code",
   "execution_count": 186,
   "id": "6053f09a-3e01-4c73-b24b-183dc08c5aa1",
   "metadata": {},
   "outputs": [],
   "source": [
    "# Import Necessary Libraries ,\n",
    "import numpy as np\n",
    "import pandas as pd\n",
    "import sklearn as sklearn\n",
    "import joblib\n",
    "from sklearn.model_selection import train_test_split\n",
    "from sklearn.preprocessing import OneHotEncoder,StandardScaler\n",
    "from sklearn.linear_model import LinearRegression\n",
    "from sklearn.metrics import mean_squared_log_error\n"
   ]
  },
  {
   "cell_type": "markdown",
   "id": "a777cfc3",
   "metadata": {},
   "source": [
    "# 2. Model Building "
   ]
  },
  {
   "cell_type": "code",
   "execution_count": 187,
   "id": "44869e52-c1ce-47ca-9a1e-9b26c70fe37f",
   "metadata": {},
   "outputs": [],
   "source": [
    "df=pd.read_csv(\"../data/train.csv\")\n",
    "FEATURES_LIST=['GrLivArea','GarageArea','TotalBsmtSF','Neighborhood','MSZoning', 'OverallQual','OverallCond']\n",
    "TARGET_VARIABLE='SalePrice'\n",
    "NUMERIC_FEATURES = ['GrLivArea', 'GarageArea', 'TotalBsmtSF']\n",
    "CATEGORICAL_FEATURES = ['Neighborhood', 'MSZoning']"
   ]
  },
  {
   "cell_type": "code",
   "execution_count": 188,
   "id": "3700e8d3",
   "metadata": {},
   "outputs": [],
   "source": [
    "def preprocess_data(df, NUMERIC_FEATURES , CATEGORICAL_FEATURES):\n",
    "    \"\"\"Preprocess the data by filling missing values.\"\"\"\n",
    "    df_processed=df.copy()\n",
    "    df_processed[NUMERIC_FEATURES] = df_processed[NUMERIC_FEATURES].fillna(df_processed[NUMERIC_FEATURES].mean())\n",
    "    for col in CATEGORICAL_FEATURES:\n",
    "        df_processed[col] = df_processed[col].fillna(df_processed[col].mode()[0])\n",
    "    return df_processed"
   ]
  },
  {
   "cell_type": "code",
   "execution_count": 189,
   "id": "23c043e6",
   "metadata": {},
   "outputs": [],
   "source": [
    "def standardize_data(df, NUMERIC_FEATURES):\n",
    "    \"\"\"Standardize numerical features.\"\"\"\n",
    "    scaler = StandardScaler()\n",
    "    scaler.fit(df[NUMERIC_FEATURES])\n",
    "    df[NUMERIC_FEATURES] = scaler.transform(df[NUMERIC_FEATURES])\n",
    "    return df, scaler"
   ]
  },
  {
   "cell_type": "code",
   "execution_count": 190,
   "id": "710cdfb6",
   "metadata": {},
   "outputs": [],
   "source": [
    "def encode_features(df, features):\n",
    "    \"\"\"Encode categorical features.\"\"\"\n",
    "    encoder = OneHotEncoder(sparse_output=False, dtype=np.int64)\n",
    "    encoder.fit(df[features])\n",
    "    encoded_df = encoder.transform(df[features])\n",
    "    columns=[]\n",
    "    for feature, categories in zip(features, encoder.categories_):\n",
    "        columns.extend([f'{feature}_is_{category}' for category in categories])\n",
    "    encoded_df = pd.DataFrame(encoded_df, columns=columns, index=df.index)\n",
    "    df = df.drop(features, axis=1)\n",
    "    df = pd.concat([df, encoded_df], axis=1)\n",
    "    return df, encoder"
   ]
  },
  {
   "cell_type": "code",
   "execution_count": 191,
   "id": "8c5ab1b0",
   "metadata": {},
   "outputs": [],
   "source": [
    "def compute_rmsle(y_true: np.ndarray, y_pred: np.ndarray, precision: int = 2) -> float:\n",
    "    \"\"\"Compute the Root Mean Squared Logarithmic Error.\"\"\"\n",
    "    rmsle = np.sqrt(mean_squared_log_error(y_true, y_pred))\n",
    "    return round(rmsle, precision)"
   ]
  },
  {
   "cell_type": "code",
   "execution_count": 192,
   "id": "755726da",
   "metadata": {},
   "outputs": [],
   "source": [
    "def prepare_data(df, numeric_features, categorical_features, scaler=None, encoder=None, fit_transform=True):\n",
    "    \"\"\"Prepare the data by preprocessing, standardizing, and encoding.\"\"\"\n",
    "    \n",
    "    df = preprocess_data(df, numeric_features, categorical_features)\n",
    "    \n",
    "    if fit_transform:\n",
    "        df, scaler = standardize_data(df, numeric_features)\n",
    "    else:\n",
    "        df[numeric_features] = scaler.transform(df[numeric_features])\n",
    "    \n",
    "    if fit_transform:\n",
    "        df, encoder = encode_features(df, categorical_features)\n",
    "    else:\n",
    "        df = encode_features(df, categorical_features)[0]\n",
    "\n",
    "    return df, scaler, encoder"
   ]
  },
  {
   "cell_type": "code",
   "execution_count": 195,
   "id": "4ccecb10",
   "metadata": {},
   "outputs": [],
   "source": [
    "def build_model(data: pd.DataFrame) -> dict[str, str]:\n",
    "    \"\"\"Build and evaluate the model from the provided DataFrame.\"\"\"\n",
    "    X_train, X_test, y_train, y_test = train_test_split(data[FEATURES_LIST], data[TARGET_VARIABLE], test_size=0.25, random_state=42)\n",
    "\n",
    "    X_train, scaler, encoder = prepare_data(X_train, NUMERIC_FEATURES, CATEGORICAL_FEATURES)\n",
    "    \n",
    "    joblib.dump(scaler, '../models/scaler.joblib')\n",
    "    joblib.dump(encoder, '../models/ohe_encoder.joblib')\n",
    "    X_test, _, _ = prepare_data(X_test, NUMERIC_FEATURES, CATEGORICAL_FEATURES, scaler, encoder, fit_transform=False)\n",
    "\n",
    "    model = LinearRegression()\n",
    "    model.fit(X_train, y_train)\n",
    "    joblib.dump(model, '../models/linear_regression_model.joblib')\n",
    "\n",
    "    y_pred = model.predict(X_test)\n",
    "    y_pred = np.delete(y_pred, 134)\n",
    "    y_test = np.delete(y_test, 134)\n",
    "    print(type(y_test),type(y_pred))\n",
    "    return {'rmsle': compute_rmsle(y_test, y_pred)}\n"
   ]
  },
  {
   "cell_type": "code",
   "execution_count": 196,
   "id": "428a02d3",
   "metadata": {},
   "outputs": [
    {
     "name": "stdout",
     "output_type": "stream",
     "text": [
      "<class 'numpy.ndarray'> <class 'numpy.ndarray'>\n"
     ]
    },
    {
     "data": {
      "text/plain": [
       "{'rmsle': 0.17}"
      ]
     },
     "execution_count": 196,
     "metadata": {},
     "output_type": "execute_result"
    }
   ],
   "source": [
    "build_model(df)\n"
   ]
  },
  {
   "cell_type": "markdown",
   "id": "7dea6d1b",
   "metadata": {},
   "source": [
    "## 2.3. Model Inference"
   ]
  },
  {
   "cell_type": "code",
   "execution_count": null,
   "id": "753cf9ca",
   "metadata": {},
   "outputs": [],
   "source": [
    "testing_data=pd.read_csv(\"../data/test.csv\")"
   ]
  },
  {
   "cell_type": "code",
   "execution_count": null,
   "id": "ab9d10e1",
   "metadata": {},
   "outputs": [],
   "source": [
    "def transform_data(df, numeric_features, categorical_features, scaler, encoder):\n",
    "    \"\"\"Transform the data using the provided scaler and encoder.\"\"\"\n",
    "    df = df.copy()  \n",
    "    df.loc[:, numeric_features] = scaler.transform(df[numeric_features])\n",
    "    encoded_array = encoder.transform(df[categorical_features])\n",
    "    encoded_df = pd.DataFrame(encoded_array, columns=[f'{feature}_is_{category}' for feature, categories in zip(categorical_features, encoder.categories_) for category in categories], index=df.index)\n",
    "    df = pd.concat([df.drop(categorical_features, axis=1), encoded_df], axis=1)\n",
    "    return df"
   ]
  },
  {
   "cell_type": "code",
   "execution_count": null,
   "id": "024819bd",
   "metadata": {},
   "outputs": [],
   "source": [
    "def make_predictions(input_data: pd.DataFrame) -> np.ndarray:\n",
    "    \"\"\"Make predictions using the trained model.\"\"\"\n",
    "    \n",
    "    loaded_scaler = joblib.load('../models/scaler.joblib')\n",
    "    loaded_encoder = joblib.load('../models/ohe_encoder.joblib')\n",
    "    loaded_model = joblib.load('../models/linear_regression_model.joblib')\n",
    "\n",
    "    X_testing = input_data.copy()[FEATURES_LIST]\n",
    "    X_testing = preprocess_data(X_testing, NUMERIC_FEATURES, CATEGORICAL_FEATURES)\n",
    "    X_testing = transform_data(X_testing, NUMERIC_FEATURES, CATEGORICAL_FEATURES, loaded_scaler, loaded_encoder)\n",
    "\n",
    "    return loaded_model.predict(X_testing)"
   ]
  },
  {
   "cell_type": "code",
   "execution_count": null,
   "id": "b5fe6061",
   "metadata": {},
   "outputs": [
    {
     "name": "stderr",
     "output_type": "stream",
     "text": [
      "C:\\Users\\usatoleb\\AppData\\Local\\Temp\\ipykernel_14132\\3706501969.py:4: FutureWarning: Setting an item of incompatible dtype is deprecated and will raise in a future error of pandas. Value '[-1.20543716 -0.38373843  0.18556785 ... -0.58299563 -1.06500828\n",
      "  0.88960995]' has dtype incompatible with int64, please explicitly cast to a compatible dtype first.\n",
      "  df.loc[:, numeric_features] = scaler.transform(df[numeric_features])\n"
     ]
    },
    {
     "data": {
      "text/plain": [
       "array([114049.00060886, 159008.45274182, 170658.99632136, ...,\n",
       "       159855.81832916, 106267.88056796, 213341.27851392])"
      ]
     },
     "execution_count": 179,
     "metadata": {},
     "output_type": "execute_result"
    }
   ],
   "source": [
    "make_predictions(testing_data)"
   ]
  },
  {
   "cell_type": "code",
   "execution_count": null,
   "id": "f199a9f3",
   "metadata": {},
   "outputs": [],
   "source": []
  }
 ],
 "metadata": {
  "kernelspec": {
   "display_name": "Python 3 (ipykernel)",
   "language": "python",
   "name": "python3"
  },
  "language_info": {
   "codemirror_mode": {
    "name": "ipython",
    "version": 3
   },
   "file_extension": ".py",
   "mimetype": "text/x-python",
   "name": "python",
   "nbconvert_exporter": "python",
   "pygments_lexer": "ipython3",
   "version": "3.11.8"
  }
 },
 "nbformat": 4,
 "nbformat_minor": 5
}
